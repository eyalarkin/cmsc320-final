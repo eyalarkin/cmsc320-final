{
 "cells": [
  {
   "cell_type": "code",
   "execution_count": null,
   "metadata": {},
   "outputs": [],
   "source": [
    "\n",
    "# Correlation coefficient to see how hours listening to music per day and depression may be linked\n",
    "correlation = df['Hours per day'].corr(df['Depression'])\n",
    "print(f'The correlation coefficient between the \"Hours per day\" and \"Depression\" is: {correlation}')\n",
    "\n",
    "plt.scatter(df['Hours per day'], df['Depression'])\n",
    "plt.xlabel(\"Hours Listening to Music Per Day\")\n",
    "plt.ylabel(\"Reported Depression\")\n",
    "plt.title(\"Hours Listening to Music per day vs. Depression\")\n",
    "plt.show()\n"
   ]
  },
  {
   "cell_type": "code",
   "execution_count": null,
   "metadata": {},
   "outputs": [],
   "source": [
    "cont_table = pd.crosstab(df['Fav genre'], df['Music effects'])\n",
    "\n",
    "chi2, p, dof, expected = stats.chi2_contingency(cont_table)\n",
    "print(f'P Value of Chi2 Test: {p}')\n",
    "\n",
    "cont_table['Improve'].plot(kind='bar', color='green', position=1, width=0.33, label='Improve')\n",
    "cont_table['No effect'].plot(kind='bar', color='blue', position=0.5, width=0.33, label='No effect')\n",
    "cont_table['Worsen'].plot(kind='bar', color='red', position=0, width=0.33, label='Worsen')\n",
    "plt.legend(title='Effect', labels=['Improve', 'No effect', 'Worsen'])\n",
    "\n",
    "plt.show()"
   ]
  }
 ],
 "metadata": {
  "kernelspec": {
   "display_name": "base",
   "language": "python",
   "name": "python3"
  },
  "language_info": {
   "codemirror_mode": {
    "name": "ipython",
    "version": 3
   },
   "file_extension": ".py",
   "mimetype": "text/x-python",
   "name": "python",
   "nbconvert_exporter": "python",
   "pygments_lexer": "ipython3",
   "version": "3.11.7"
  }
 },
 "nbformat": 4,
 "nbformat_minor": 2
}
