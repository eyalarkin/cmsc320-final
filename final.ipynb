{
 "cells": [
  {
   "cell_type": "markdown",
   "metadata": {},
   "source": [
    "Checkpoint 2 (25 points)\n",
    "Submit a jupyter notebook file (.ipynb) on Gradescope with:\n",
    "\n",
    "● (5 points) Data preprocessing: (a) import, (b) parse (e.g., convert strings to ints), (c)\n",
    "organize (e.g., set up a database or a pandas DataFrame).\n",
    "\n",
    "● (20 points) Basic data exploration and summary statistics\n",
    "\n",
    "    - You must present three conclusions using at least three different statistical\n",
    "methods including hypothesis testing.\n",
    "\n",
    "        - For example: What are the main characteristics of your dataset? How\n",
    "many features and entries are there? Is a feature over-represented? Are\n",
    "features correlated? Are there outliers? Identify the attributes that will\n",
    "affect your choice of primary analysis technique. Etcetera.\n",
    "\n",
    "\n",
    "○ For each method, you must have at least one gorgeous plot\n"
   ]
  }
 ],
 "metadata": {
  "language_info": {
   "name": "python"
  }
 },
 "nbformat": 4,
 "nbformat_minor": 2
}
